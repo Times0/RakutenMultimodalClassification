{
 "cells": [
  {
   "cell_type": "code",
   "execution_count": 39,
   "metadata": {},
   "outputs": [],
   "source": [
    "import pandas as pd\n",
    "import numpy as np\n",
    "from typing import List, Tuple\n",
    "from sklearn.model_selection import train_test_split\n",
    "from sklearn.preprocessing import LabelEncoder\n",
    "from sklearn.metrics import classification_report, confusion_matrix\n",
    "from sklearn.ensemble import RandomForestClassifier\n",
    "from sklearn.linear_model import LogisticRegression\n",
    "from sentence_transformers import SentenceTransformer\n",
    "\n",
    "class TextClassifier:\n",
    "    def __init__(self, embedding_model: str = 'paraphrase-multilingual-MiniLM-L12-v2'):\n",
    "        self.embedding_model = SentenceTransformer(embedding_model)\n",
    "        self.label_encoder = LabelEncoder()\n",
    "        self.classifier = LogisticRegression(max_iter=1000)\n",
    "\n",
    "    def prepare_data(self, df: pd.DataFrame, text_col: str, label_col: str):\n",
    "        y = self.label_encoder.fit_transform(df[label_col])\n",
    "        X = self.embedding_model.encode(df[text_col].tolist())\n",
    "        \n",
    "        return X, y\n",
    "\n",
    "    def train(self, X_train: np.ndarray, y_train: np.ndarray):\n",
    "        self.classifier.fit(X_train, y_train)\n",
    "\n",
    "    def predict(self, X_test: np.ndarray) -> np.ndarray:\n",
    "        return self.classifier.predict(X_test)\n",
    "\n",
    "    def evaluate(self, X_test: np.ndarray, y_test: np.ndarray):\n",
    "        y_pred = self.predict(X_test)\n",
    "        print(classification_report(\n",
    "            y_test, \n",
    "            y_pred, \n",
    "            labels=np.unique(y_test),\n",
    "        ))\n"
   ]
  },
  {
   "cell_type": "code",
   "execution_count": 40,
   "metadata": {},
   "outputs": [
    {
     "name": "stdout",
     "output_type": "stream",
     "text": [
      "              precision    recall  f1-score   support\n",
      "\n",
      "           1       0.00      0.00      0.00         2\n",
      "           2       1.00      0.50      0.67         2\n",
      "           3       1.00      1.00      1.00         1\n",
      "           4       0.00      0.00      0.00         4\n",
      "           6       0.00      0.00      0.00         1\n",
      "           7       0.14      0.25      0.18         4\n",
      "           8       1.00      0.25      0.40         4\n",
      "           9       0.54      0.78      0.64         9\n",
      "          10       0.00      0.00      0.00         1\n",
      "          11       0.50      0.33      0.40         3\n",
      "          12       1.00      0.50      0.67         6\n",
      "          13       0.44      0.80      0.57        10\n",
      "          14       0.33      0.50      0.40         4\n",
      "          15       1.00      1.00      1.00         1\n",
      "          16       0.36      0.36      0.36        11\n",
      "          17       0.00      0.00      0.00         1\n",
      "          19       0.73      0.73      0.73        11\n",
      "          20       0.33      0.20      0.25         5\n",
      "          21       0.68      0.93      0.79        14\n",
      "          22       0.33      0.25      0.29         4\n",
      "          23       0.00      0.00      0.00         1\n",
      "          24       0.00      0.00      0.00         1\n",
      "\n",
      "    accuracy                           0.53       100\n",
      "   macro avg       0.43      0.38      0.38       100\n",
      "weighted avg       0.51      0.53      0.49       100\n",
      "\n"
     ]
    },
    {
     "name": "stderr",
     "output_type": "stream",
     "text": [
      "c:\\Programmation\\School\\TPS\\RakutenMultimodalClassification\\.venv\\Lib\\site-packages\\sklearn\\metrics\\_classification.py:1565: UndefinedMetricWarning: Precision is ill-defined and being set to 0.0 in labels with no predicted samples. Use `zero_division` parameter to control this behavior.\n",
      "  _warn_prf(average, modifier, f\"{metric.capitalize()} is\", len(result))\n",
      "c:\\Programmation\\School\\TPS\\RakutenMultimodalClassification\\.venv\\Lib\\site-packages\\sklearn\\metrics\\_classification.py:1565: UndefinedMetricWarning: Precision is ill-defined and being set to 0.0 in labels with no predicted samples. Use `zero_division` parameter to control this behavior.\n",
      "  _warn_prf(average, modifier, f\"{metric.capitalize()} is\", len(result))\n",
      "c:\\Programmation\\School\\TPS\\RakutenMultimodalClassification\\.venv\\Lib\\site-packages\\sklearn\\metrics\\_classification.py:1565: UndefinedMetricWarning: Precision is ill-defined and being set to 0.0 in labels with no predicted samples. Use `zero_division` parameter to control this behavior.\n",
      "  _warn_prf(average, modifier, f\"{metric.capitalize()} is\", len(result))\n"
     ]
    }
   ],
   "source": [
    "df = pd.read_csv('train.csv')\n",
    "df.dropna(inplace=True)\n",
    "df = df.head(500)\n",
    "classifier = TextClassifier()\n",
    "X, y = classifier.prepare_data(df, text_col='description', label_col='class')\n",
    "X_train, X_test, y_train, y_test = train_test_split(\n",
    "    X, y, test_size=0.2, random_state=42\n",
    ")\n",
    "\n",
    "classifier.train(X_train, y_train)\n",
    "classifier.evaluate(X_test, y_test)\n",
    "    "
   ]
  }
 ],
 "metadata": {
  "kernelspec": {
   "display_name": ".venv",
   "language": "python",
   "name": "python3"
  },
  "language_info": {
   "codemirror_mode": {
    "name": "ipython",
    "version": 3
   },
   "file_extension": ".py",
   "mimetype": "text/x-python",
   "name": "python",
   "nbconvert_exporter": "python",
   "pygments_lexer": "ipython3",
   "version": "3.11.8"
  }
 },
 "nbformat": 4,
 "nbformat_minor": 2
}
