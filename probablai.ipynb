{
 "cells": [
  {
   "cell_type": "code",
   "execution_count": 1,
   "metadata": {},
   "outputs": [
    {
     "data": {
      "text/html": [
       "<pre style=\"white-space:pre;overflow-x:auto;line-height:normal;font-family:Menlo,'DejaVu Sans Mono',consolas,'Courier New',monospace\"><span style=\"color: #7fbfbf; text-decoration-color: #7fbfbf\">[12/17/24 21:08:52] </span><span style=\"color: #000080; text-decoration-color: #000080\">&lt;Logger skore.project.project (INFO)&gt;</span> Project file                                <a href=\"file://d:\\Programmation\\TPS\\RakutenMultimodalClassification\\.venv\\Lib\\site-packages\\skore\\project\\create.py\" target=\"_blank\"><span style=\"color: #7f7f7f; text-decoration-color: #7f7f7f\">create.py</span></a><span style=\"color: #7f7f7f; text-decoration-color: #7f7f7f\">:</span><a href=\"file://d:\\Programmation\\TPS\\RakutenMultimodalClassification\\.venv\\Lib\\site-packages\\skore\\project\\create.py#148\" target=\"_blank\"><span style=\"color: #7f7f7f; text-decoration-color: #7f7f7f\">148</span></a>\n",
       "<span style=\"color: #7fbfbf; text-decoration-color: #7fbfbf\">                    </span>                                      <span style=\"color: #008000; text-decoration-color: #008000\">'d:\\Programmation\\TPS\\RakutenMultimodalClas</span> <span style=\"color: #7f7f7f; text-decoration-color: #7f7f7f\">             </span>\n",
       "<span style=\"color: #7fbfbf; text-decoration-color: #7fbfbf\">                    </span>                                      <span style=\"color: #008000; text-decoration-color: #008000\">sification\\my_project.skore'</span> was            <span style=\"color: #7f7f7f; text-decoration-color: #7f7f7f\">             </span>\n",
       "<span style=\"color: #7fbfbf; text-decoration-color: #7fbfbf\">                    </span>                                      successfully created.                       <span style=\"color: #7f7f7f; text-decoration-color: #7f7f7f\">             </span>\n",
       "</pre>\n"
      ],
      "text/plain": [
       "\u001b[2;36m[12/17/24 21:08:52]\u001b[0m\u001b[2;36m \u001b[0m\u001b[34m<Logger skore.project.project (INFO)>\u001b[0m Project file                                \u001b]8;id=466467;file://d:\\Programmation\\TPS\\RakutenMultimodalClassification\\.venv\\Lib\\site-packages\\skore\\project\\create.py\u001b\\\u001b[2mcreate.py\u001b[0m\u001b]8;;\u001b\\\u001b[2m:\u001b[0m\u001b]8;id=128250;file://d:\\Programmation\\TPS\\RakutenMultimodalClassification\\.venv\\Lib\\site-packages\\skore\\project\\create.py#148\u001b\\\u001b[2m148\u001b[0m\u001b]8;;\u001b\\\n",
       "\u001b[2;36m                    \u001b[0m                                      \u001b[32m'd:\\Programmation\\TPS\\RakutenMultimodalClas\u001b[0m \u001b[2m             \u001b[0m\n",
       "\u001b[2;36m                    \u001b[0m                                      \u001b[32msification\\my_project.skore'\u001b[0m was            \u001b[2m             \u001b[0m\n",
       "\u001b[2;36m                    \u001b[0m                                      successfully created.                       \u001b[2m             \u001b[0m\n"
      ]
     },
     "metadata": {},
     "output_type": "display_data"
    }
   ],
   "source": [
    "import skore\n",
    "my_project = skore.create(\"my_project\", overwrite=True)"
   ]
  },
  {
   "cell_type": "code",
   "execution_count": 3,
   "metadata": {},
   "outputs": [],
   "source": [
    "from sklearn.datasets import load_iris\n",
    "from sklearn.svm import SVC\n",
    "\n",
    "X, y = load_iris(return_X_y=True)\n",
    "clf = SVC(kernel=\"linear\", C=1, random_state=0)\n",
    "\n",
    "reporter = skore.CrossValidationReporter(clf, X, y, cv=5)\n",
    "\n",
    "# Store the results in the project\n",
    "my_project.put(\"cv_reporter\", reporter)\n"
   ]
  },
  {
   "cell_type": "code",
   "execution_count": null,
   "metadata": {},
   "outputs": [],
   "source": []
  }
 ],
 "metadata": {
  "kernelspec": {
   "display_name": ".venv",
   "language": "python",
   "name": "python3"
  },
  "language_info": {
   "codemirror_mode": {
    "name": "ipython",
    "version": 3
   },
   "file_extension": ".py",
   "mimetype": "text/x-python",
   "name": "python",
   "nbconvert_exporter": "python",
   "pygments_lexer": "ipython3",
   "version": "3.11.6"
  }
 },
 "nbformat": 4,
 "nbformat_minor": 2
}
